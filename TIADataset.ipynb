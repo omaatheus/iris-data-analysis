{
  "nbformat": 4,
  "nbformat_minor": 0,
  "metadata": {
    "colab": {
      "provenance": [],
      "include_colab_link": true
    },
    "kernelspec": {
      "name": "python3",
      "display_name": "Python 3"
    },
    "language_info": {
      "name": "python"
    }
  },
  "cells": [
    {
      "cell_type": "markdown",
      "metadata": {
        "id": "view-in-github",
        "colab_type": "text"
      },
      "source": [
        "<a href=\"https://colab.research.google.com/github/omaatheus/iris-data-analysis/blob/main/TIADataset.ipynb\" target=\"_parent\"><img src=\"https://colab.research.google.com/assets/colab-badge.svg\" alt=\"Open In Colab\"/></a>"
      ]
    },
    {
      "cell_type": "markdown",
      "source": [],
      "metadata": {
        "id": "2Mvtuu39GW0_"
      }
    },
    {
      "cell_type": "markdown",
      "source": [
        "# **Introdução ao Dataset Iris**\n",
        "\n",
        "O **dataset Iris** é bastante conhecido e foi usado inicialmente pelo Sr R.A. Fisher, ele é um clássico no campo de reconhecimento de padrões. Ele é comumente usado em estudos de aprendizado de máquina e estatística devido à sua simplicidade e riqueza de dados para classificação. O dataset é composto por exatas 150 amostras, que são distribuídas em 3 classes de plantas da espécie \"Iris\":\n",
        "\n",
        "*   Iris Setosa;\n",
        "*   Iris Virginica; e\n",
        "*   Iris Versicolour.\n",
        "\n",
        "> Cada classe possui 50 amostras. Essas váriaveis acima são **Qualitativas**, essas váriaveis classificam cada instância do dataset de acordo com a espécie da planta, podendo ser usada em algoritmos de classificação para prever a espécie de tal flor com base em medidas morfológicas fornecidas.\n",
        "\n",
        "O Dataset possui 4 atributos preditivos que medem distintos apectos morfológicos das flores da espécie, todos são expressos em cm (centímetros).\n",
        "\n",
        "\n",
        "\n",
        "1.   Comprimento da sépala (sepal length)\n",
        "2.   Largura da sépala (sepal width)\n",
        "3.   Comprimento da pétala (petal length)\n",
        "4.   Largura da pétala (petal width)\n",
        "\n",
        "> Essas variáveis acima são **Quantitativas**, são contínuas e podem ser utilizadas para realizar análises estatísticas, como calcular média, mediana, desvio padrão e entre outras análises.\n",
        "\n",
        "\n",
        "\n",
        "\n",
        "\n",
        "\n",
        "\n"
      ],
      "metadata": {
        "id": "VrjrAI_eGY4b"
      }
    },
    {
      "cell_type": "markdown",
      "source": [],
      "metadata": {
        "id": "YBUQcijf8Qto"
      }
    },
    {
      "cell_type": "code",
      "execution_count": 14,
      "metadata": {
        "id": "C4ZaTVAs37_G",
        "colab": {
          "base_uri": "https://localhost:8080/"
        },
        "outputId": "c1e924a1-6fb6-454f-a4b0-31807f02ff9e"
      },
      "outputs": [
        {
          "output_type": "stream",
          "name": "stdout",
          "text": [
            "Primeiras linhas do dataset: \n",
            "    sepal length (cm)  sepal width (cm)  petal length (cm)  petal width (cm)  \\\n",
            "0                5.1               3.5                1.4               0.2   \n",
            "1                4.9               3.0                1.4               0.2   \n",
            "2                4.7               3.2                1.3               0.2   \n",
            "3                4.6               3.1                1.5               0.2   \n",
            "4                5.0               3.6                1.4               0.2   \n",
            "\n",
            "    class  \n",
            "0  setosa  \n",
            "1  setosa  \n",
            "2  setosa  \n",
            "3  setosa  \n",
            "4  setosa  \n",
            "\n",
            " Tamanho do dataset: (linhas, colunas) \n",
            " (150, 5)\n",
            "\n",
            " Colunas do dataset: \n",
            "- sepal length (cm)\n",
            "- sepal width (cm)\n",
            "- petal length (cm)\n",
            "- petal width (cm)\n",
            "- class\n",
            "\n",
            " Explicação das colunas: \n",
            " 1. sepal length (cm) - Comprimento da sépala em centímetros. \n",
            " 2. sepal width (cm) - Largura da sépala em centímetros. \n",
            " 3. petal length (cm) - Comprimento da pétala em centímetros. \n",
            " 4. petal width (cm) - Largura da pétala em centímetros. \n",
            " 5. class - Classe da flor, que pode ser Iris-setosa, Iris-versicolour ou Iris-virginica.\n"
          ]
        }
      ],
      "source": [
        "import pandas as pd\n",
        "from sklearn.datasets import load_iris\n",
        "\n",
        "iris = load_iris()\n",
        "\n",
        "#convertendo o dataset em um df\n",
        "iris_df = pd.DataFrame(data=iris.data, columns=iris.feature_names)\n",
        "\n",
        "#adicionando a coluna 'class' para indicar a espécie da flor\n",
        "iris_df['class'] = pd.Categorical.from_codes(iris.target, iris.target_names)\n",
        "\n",
        "#exibindo as 5 primeiras linhas do dataset\n",
        "print(f'Primeiras linhas do dataset: \\n {iris_df.head()}')\n",
        "\n",
        "#exibindo o tamanho do dataset\n",
        "print(f'\\n Tamanho do dataset: (linhas, colunas) \\n {iris_df.shape}')\n",
        "\n",
        "#listando as colunas e explicando o que cada uma representa\n",
        "print(f'\\n Colunas do dataset: ')\n",
        "for i in iris_df.columns:\n",
        "  print(f'- {i}')\n",
        "\n",
        "print(f'\\n Explicação das colunas: \\n 1. sepal length (cm) - Comprimento da sépala em centímetros. \\n 2. sepal width (cm) - Largura da sépala em centímetros. \\n 3. petal length (cm) - Comprimento da pétala em centímetros. \\n 4. petal width (cm) - Largura da pétala em centímetros. \\n 5. class - Classe da flor, que pode ser Iris-setosa, Iris-versicolour ou Iris-virginica.')\n",
        "\n"
      ]
    },
    {
      "cell_type": "code",
      "source": [],
      "metadata": {
        "id": "TRGBIetIPGEe"
      },
      "execution_count": null,
      "outputs": []
    }
  ]
}